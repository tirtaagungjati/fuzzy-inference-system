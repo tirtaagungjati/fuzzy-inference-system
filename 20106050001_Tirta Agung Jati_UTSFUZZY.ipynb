{
 "cells": [
  {
   "cell_type": "markdown",
   "id": "f088eaeb",
   "metadata": {},
   "source": [
    "### Nama : Tirta Agung Jati\n",
    "### NIM : 20106050001\n",
    "### Mata Kuliah : Logika Fuzzy\n",
    "### Tugas Fuzzy Inference System\n",
    "---\n",
    "Model Yang Saya buat ialah model Mamdani, dimana model disini terdiri dari Hanya bisa AND method dengan fungsi Min.\n",
    "Implicationnya menggunakan fungsi Min. Aggregation menggunakan fungsi Max. Untuk defuzzification menggunakan fungsi MOM.\n",
    "\n",
    "---"
   ]
  },
  {
   "cell_type": "markdown",
   "id": "983b79a3",
   "metadata": {},
   "source": [
    "### Inisiasi Input Output"
   ]
  },
  {
   "cell_type": "code",
   "execution_count": 1,
   "id": "283a8d9b",
   "metadata": {},
   "outputs": [],
   "source": [
    "var_input = []\n",
    "var_output = []\n",
    "\n",
    "def variabel_input():\n",
    "    jumlah = int(input(\"Berapa Banyak variabel input yang anda miliki : \"))\n",
    "    print(\"\\nSilahkan Masukkan nama nama variabel input anda\\n\")\n",
    "    for i in range(jumlah):\n",
    "        nilai = str(input(f\"Variabel {i+1} : \"))\n",
    "        var_input.append(nilai)   \n",
    "        \n",
    "def variabel_output():\n",
    "    nilai = str(input(\"Silahkan Masukkan nama variabel output anda : \"))\n",
    "    var_output.append(nilai)"
   ]
  },
  {
   "cell_type": "code",
   "execution_count": 2,
   "id": "2eaddd1e",
   "metadata": {},
   "outputs": [
    {
     "name": "stdout",
     "output_type": "stream",
     "text": [
      "Berapa Banyak variabel input yang anda miliki : 3\n",
      "\n",
      "Silahkan Masukkan nama nama variabel input anda\n",
      "\n",
      "Variabel 1 : umur\n",
      "Variabel 2 : tinggi_badan\n",
      "Variabel 3 : berat_badan\n"
     ]
    }
   ],
   "source": [
    "variabel_input()"
   ]
  },
  {
   "cell_type": "code",
   "execution_count": 3,
   "id": "41010765",
   "metadata": {},
   "outputs": [
    {
     "name": "stdout",
     "output_type": "stream",
     "text": [
      "Silahkan Masukkan nama variabel output anda : status_gizi\n"
     ]
    }
   ],
   "source": [
    "variabel_output()"
   ]
  },
  {
   "cell_type": "markdown",
   "id": "0ce1e391",
   "metadata": {},
   "source": [
    "### Inisiasi himpunan variabel input dan output"
   ]
  },
  {
   "cell_type": "code",
   "execution_count": 4,
   "id": "f3018a6b",
   "metadata": {},
   "outputs": [],
   "source": [
    "himpunan_var_input = []\n",
    "def himpunan_variabel_input():\n",
    "    for i in var_input:\n",
    "        jumlah = int(input(f\"Ada Berapa Himpunan pada variabel {i} : \"))\n",
    "        for j in range(jumlah):\n",
    "            nilai = str(input(f\"Himpunan variabel {i} ke-{j+1} : \"))\n",
    "            himpunan_var_input.append([i,nilai])"
   ]
  },
  {
   "cell_type": "code",
   "execution_count": 5,
   "id": "eeb486e7",
   "metadata": {},
   "outputs": [
    {
     "name": "stdout",
     "output_type": "stream",
     "text": [
      "Ada Berapa Himpunan pada variabel umur : 3\n",
      "Himpunan variabel umur ke-1 : remaja\n",
      "Himpunan variabel umur ke-2 : dewasa\n",
      "Himpunan variabel umur ke-3 : tua\n",
      "Ada Berapa Himpunan pada variabel tinggi_badan : 3\n",
      "Himpunan variabel tinggi_badan ke-1 : pendek\n",
      "Himpunan variabel tinggi_badan ke-2 : sedang\n",
      "Himpunan variabel tinggi_badan ke-3 : tinggi\n",
      "Ada Berapa Himpunan pada variabel berat_badan : 3\n",
      "Himpunan variabel berat_badan ke-1 : ringan\n",
      "Himpunan variabel berat_badan ke-2 : normal\n",
      "Himpunan variabel berat_badan ke-3 : berat\n"
     ]
    }
   ],
   "source": [
    "himpunan_variabel_input()"
   ]
  },
  {
   "cell_type": "code",
   "execution_count": 6,
   "id": "407a9179",
   "metadata": {},
   "outputs": [
    {
     "name": "stdout",
     "output_type": "stream",
     "text": [
      "[['umur', 'remaja'], ['umur', 'dewasa'], ['umur', 'tua'], ['tinggi_badan', 'pendek'], ['tinggi_badan', 'sedang'], ['tinggi_badan', 'tinggi'], ['berat_badan', 'ringan'], ['berat_badan', 'normal'], ['berat_badan', 'berat']]\n"
     ]
    }
   ],
   "source": [
    "print(himpunan_var_input)"
   ]
  },
  {
   "cell_type": "code",
   "execution_count": 7,
   "id": "e9fe09c4",
   "metadata": {},
   "outputs": [],
   "source": [
    "himpunan_var_output = []\n",
    "def himpunan_variabel_output():\n",
    "    for i in var_output:\n",
    "        jumlah = int(input(f\"Ada Berapa Himpunan pada variabel {i} : \"))\n",
    "        for j in range(jumlah):\n",
    "            nilai = str(input(f\"Himpunan variabel {i} ke-{j+1} : \"))\n",
    "            himpunan_var_output.append([i,nilai])"
   ]
  },
  {
   "cell_type": "code",
   "execution_count": 8,
   "id": "6862b228",
   "metadata": {},
   "outputs": [
    {
     "name": "stdout",
     "output_type": "stream",
     "text": [
      "Ada Berapa Himpunan pada variabel status_gizi : 3\n",
      "Himpunan variabel status_gizi ke-1 : kurang\n",
      "Himpunan variabel status_gizi ke-2 : normal\n",
      "Himpunan variabel status_gizi ke-3 : berlebihan\n"
     ]
    }
   ],
   "source": [
    "himpunan_variabel_output()"
   ]
  },
  {
   "cell_type": "code",
   "execution_count": 9,
   "id": "94194962",
   "metadata": {},
   "outputs": [
    {
     "name": "stdout",
     "output_type": "stream",
     "text": [
      "[['status_gizi', 'kurang'], ['status_gizi', 'normal'], ['status_gizi', 'berlebihan']]\n"
     ]
    }
   ],
   "source": [
    "print(himpunan_var_output)"
   ]
  },
  {
   "cell_type": "markdown",
   "id": "49925e8c",
   "metadata": {},
   "source": [
    "### Inisiasi semesta pembicaraan variabel input dan output"
   ]
  },
  {
   "cell_type": "code",
   "execution_count": 14,
   "id": "c0ecacc7",
   "metadata": {},
   "outputs": [],
   "source": [
    "semesta_pembicaraan_var_input = []\n",
    "def semesta_pembicaraan_variabel_input():\n",
    "    for i in var_input:\n",
    "        batas_bawah = int(input(f\"Masukan nilai batas bawah semesta pembicaraan pada variabel {i} : \"))\n",
    "        batas_atas = int(input(f\"Masukan nilai batas atas semesta pembicaraan pada variabel {i} : \"))\n",
    "        semesta_pembicaraan_var_input.append([i,[batas_bawah,batas_atas]])"
   ]
  },
  {
   "cell_type": "code",
   "execution_count": 15,
   "id": "d8a03b16",
   "metadata": {},
   "outputs": [
    {
     "name": "stdout",
     "output_type": "stream",
     "text": [
      "Masukan nilai batas bawah semesta pembicaraan pada variabel umur : 10\n",
      "Masukan nilai batas atas semesta pembicaraan pada variabel umur : 40\n",
      "Masukan nilai batas bawah semesta pembicaraan pada variabel tinggi_badan : 130\n",
      "Masukan nilai batas atas semesta pembicaraan pada variabel tinggi_badan : 185\n",
      "Masukan nilai batas bawah semesta pembicaraan pada variabel berat_badan : 30\n",
      "Masukan nilai batas atas semesta pembicaraan pada variabel berat_badan : 80\n"
     ]
    }
   ],
   "source": [
    "semesta_pembicaraan_variabel_input()"
   ]
  },
  {
   "cell_type": "markdown",
   "id": "951a8568",
   "metadata": {},
   "source": [
    "# semesta_pembicaraan_var_input"
   ]
  },
  {
   "cell_type": "code",
   "execution_count": 16,
   "id": "91881e7f",
   "metadata": {},
   "outputs": [],
   "source": [
    "semesta_pembicaraan_var_output = []\n",
    "def semesta_pembicaraan_variabel_output():\n",
    "    for i in var_output:\n",
    "        batas_bawah = int(input(f\"Masukan nilai batas bawah semesta pembicaraan pada variabel {i} : \"))\n",
    "        batas_atas = int(input(f\"Masukan nilai batas atas semesta pembicaraan pada variabel {i} : \"))\n",
    "        semesta_pembicaraan_var_output.append([i,[batas_bawah,batas_atas]])"
   ]
  },
  {
   "cell_type": "code",
   "execution_count": 17,
   "id": "f31c369a",
   "metadata": {},
   "outputs": [
    {
     "name": "stdout",
     "output_type": "stream",
     "text": [
      "Masukan nilai batas bawah semesta pembicaraan pada variabel status_gizi : 10\n",
      "Masukan nilai batas atas semesta pembicaraan pada variabel status_gizi : 40\n"
     ]
    }
   ],
   "source": [
    "semesta_pembicaraan_variabel_output()"
   ]
  },
  {
   "cell_type": "markdown",
   "id": "9430abd2",
   "metadata": {},
   "source": [
    "### Inisiasi Membership Function"
   ]
  },
  {
   "cell_type": "code",
   "execution_count": 18,
   "id": "cf2693d3",
   "metadata": {},
   "outputs": [],
   "source": [
    "pemetaan_grafik_input = []\n",
    "domain_var_input = []\n",
    "def membership_function():\n",
    "    print(\"Aplikasi ini hanya memiliki fungsi segitiga dan trapesium\")\n",
    "    for i in range(len(himpunan_var_input)):\n",
    "        tugas = input(f\"Untuk domain variabel {himpunan_var_input[i][0]} {himpunan_var_input[i][1]}\\n\"+\n",
    "        \"Jika anda ingin menggunakan fungsi segitiga ketikkan 1\\n\"+\n",
    "        \"Jika anda ingin menggunakan fungsi trapesium ketikkan 2\\n\"+\n",
    "        \"input(1/2) : \")\n",
    "        if tugas == \"1\":\n",
    "            a = float(input(f\"masukkan nilai a : \"))\n",
    "            b = float(input(f\"masukkan nilai b : \"))\n",
    "            c = float(input(f\"masukkan nilai c : \"))\n",
    "            pemetaan_grafik_input.append([himpunan_var_input[i][0],himpunan_var_input[i][1],\"segitiga\",[[a,b,c],[0,1,0]]])\n",
    "            domain_var_input.insert(i,[himpunan_var_input[i][0],himpunan_var_input[i][1],a,c])\n",
    "        if tugas == \"2\":\n",
    "            a = float(input(\"masukkan nilai a : \"))\n",
    "            b = float(input(\"masukkan nilai b : \"))\n",
    "            c = float(input(\"masukkan nilai c : \"))\n",
    "            d = float(input(\"masukkan nilai d : \"))\n",
    "            domain_var_input.insert(i,[himpunan_var_input[i][0],himpunan_var_input[i][1],a,d])\n",
    "            if a == b:\n",
    "                pemetaan_grafik_input.append([himpunan_var_input[i][0],himpunan_var_input[i][1],\"trapesium\",[[a,b,c,d],[1,1,1,0]]])\n",
    "            elif d == c:\n",
    "                pemetaan_grafik_input.append([himpunan_var_input[i][0],himpunan_var_input[i][1],\"trapesium\",[[a,b,c,d],[0,1,1,1]]])\n",
    "            else:\n",
    "                pemetaan_grafik_input.append([himpunan_var_input[i][0],himpunan_var_input[i][1],\"trapesium\",[[a,b,c,d],[0,1,1,0]]])"
   ]
  },
  {
   "cell_type": "code",
   "execution_count": 19,
   "id": "fc65c0a4",
   "metadata": {},
   "outputs": [
    {
     "name": "stdout",
     "output_type": "stream",
     "text": [
      "Aplikasi ini hanya memiliki fungsi segitiga dan trapesium\n",
      "Untuk domain variabel umur remaja\n",
      "Jika anda ingin menggunakan fungsi segitiga ketikkan 1\n",
      "Jika anda ingin menggunakan fungsi trapesium ketikkan 2\n",
      "input(1/2) : 2\n",
      "masukkan nilai a : 10\n",
      "masukkan nilai b : 10\n",
      "masukkan nilai c : 15\n",
      "masukkan nilai d : 18\n",
      "Untuk domain variabel umur dewasa\n",
      "Jika anda ingin menggunakan fungsi segitiga ketikkan 1\n",
      "Jika anda ingin menggunakan fungsi trapesium ketikkan 2\n",
      "input(1/2) : 2\n",
      "masukkan nilai a : 16\n",
      "masukkan nilai b : 20\n",
      "masukkan nilai c : 24\n",
      "masukkan nilai d : 27\n",
      "Untuk domain variabel umur tua\n",
      "Jika anda ingin menggunakan fungsi segitiga ketikkan 1\n",
      "Jika anda ingin menggunakan fungsi trapesium ketikkan 2\n",
      "input(1/2) : 2\n",
      "masukkan nilai a : 26\n",
      "masukkan nilai b : 32\n",
      "masukkan nilai c : 40\n",
      "masukkan nilai d : 40\n",
      "Untuk domain variabel tinggi_badan pendek\n",
      "Jika anda ingin menggunakan fungsi segitiga ketikkan 1\n",
      "Jika anda ingin menggunakan fungsi trapesium ketikkan 2\n",
      "input(1/2) : 2\n",
      "masukkan nilai a : 130\n",
      "masukkan nilai b : 130\n",
      "masukkan nilai c : 140\n",
      "masukkan nilai d : 150\n",
      "Untuk domain variabel tinggi_badan sedang\n",
      "Jika anda ingin menggunakan fungsi segitiga ketikkan 1\n",
      "Jika anda ingin menggunakan fungsi trapesium ketikkan 2\n",
      "input(1/2) : 2\n",
      "masukkan nilai a : 145\n",
      "masukkan nilai b : 155\n",
      "masukkan nilai c : 160\n",
      "masukkan nilai d : 170\n",
      "Untuk domain variabel tinggi_badan tinggi\n",
      "Jika anda ingin menggunakan fungsi segitiga ketikkan 1\n",
      "Jika anda ingin menggunakan fungsi trapesium ketikkan 2\n",
      "input(1/2) : 2\n",
      "masukkan nilai a : 165\n",
      "masukkan nilai b : 180\n",
      "masukkan nilai c : 185\n",
      "masukkan nilai d : 185\n",
      "Untuk domain variabel berat_badan ringan\n",
      "Jika anda ingin menggunakan fungsi segitiga ketikkan 1\n",
      "Jika anda ingin menggunakan fungsi trapesium ketikkan 2\n",
      "input(1/2) : 2\n",
      "masukkan nilai a : 30\n",
      "masukkan nilai b : 30\n",
      "masukkan nilai c : 40\n",
      "masukkan nilai d : 45\n",
      "Untuk domain variabel berat_badan normal\n",
      "Jika anda ingin menggunakan fungsi segitiga ketikkan 1\n",
      "Jika anda ingin menggunakan fungsi trapesium ketikkan 2\n",
      "input(1/2) : 2\n",
      "masukkan nilai a : 43\n",
      "masukkan nilai b : 50\n",
      "masukkan nilai c : 55\n",
      "masukkan nilai d : 60\n",
      "Untuk domain variabel berat_badan berat\n",
      "Jika anda ingin menggunakan fungsi segitiga ketikkan 1\n",
      "Jika anda ingin menggunakan fungsi trapesium ketikkan 2\n",
      "input(1/2) : 2\n",
      "masukkan nilai a : 56\n",
      "masukkan nilai b : 65\n",
      "masukkan nilai c : 90\n",
      "masukkan nilai d : 90\n"
     ]
    }
   ],
   "source": [
    "membership_function()"
   ]
  },
  {
   "cell_type": "code",
   "execution_count": 21,
   "id": "328ee313",
   "metadata": {},
   "outputs": [
    {
     "data": {
      "text/plain": [
       "[['umur', 'remaja', 'trapesium', [[10.0, 10.0, 15.0, 18.0], [1, 1, 1, 0]]],\n",
       " ['umur', 'dewasa', 'trapesium', [[16.0, 20.0, 24.0, 27.0], [0, 1, 1, 0]]],\n",
       " ['umur', 'tua', 'trapesium', [[26.0, 32.0, 40.0, 40.0], [0, 1, 1, 1]]],\n",
       " ['tinggi_badan',\n",
       "  'pendek',\n",
       "  'trapesium',\n",
       "  [[130.0, 130.0, 140.0, 150.0], [1, 1, 1, 0]]],\n",
       " ['tinggi_badan',\n",
       "  'sedang',\n",
       "  'trapesium',\n",
       "  [[145.0, 155.0, 160.0, 170.0], [0, 1, 1, 0]]],\n",
       " ['tinggi_badan',\n",
       "  'tinggi',\n",
       "  'trapesium',\n",
       "  [[165.0, 180.0, 185.0, 185.0], [0, 1, 1, 1]]],\n",
       " ['berat_badan',\n",
       "  'ringan',\n",
       "  'trapesium',\n",
       "  [[30.0, 30.0, 40.0, 45.0], [1, 1, 1, 0]]],\n",
       " ['berat_badan',\n",
       "  'normal',\n",
       "  'trapesium',\n",
       "  [[43.0, 50.0, 55.0, 60.0], [0, 1, 1, 0]]],\n",
       " ['berat_badan',\n",
       "  'berat',\n",
       "  'trapesium',\n",
       "  [[56.0, 65.0, 90.0, 90.0], [0, 1, 1, 1]]]]"
      ]
     },
     "execution_count": 21,
     "metadata": {},
     "output_type": "execute_result"
    }
   ],
   "source": [
    "pemetaan_grafik_input"
   ]
  },
  {
   "cell_type": "code",
   "execution_count": 22,
   "id": "6fa6c135",
   "metadata": {},
   "outputs": [
    {
     "data": {
      "text/plain": [
       "[['umur', 'remaja', 10.0, 18.0],\n",
       " ['umur', 'dewasa', 16.0, 27.0],\n",
       " ['umur', 'tua', 26.0, 40.0],\n",
       " ['tinggi_badan', 'pendek', 130.0, 150.0],\n",
       " ['tinggi_badan', 'sedang', 145.0, 170.0],\n",
       " ['tinggi_badan', 'tinggi', 165.0, 185.0],\n",
       " ['berat_badan', 'ringan', 30.0, 45.0],\n",
       " ['berat_badan', 'normal', 43.0, 60.0],\n",
       " ['berat_badan', 'berat', 56.0, 90.0]]"
      ]
     },
     "execution_count": 22,
     "metadata": {},
     "output_type": "execute_result"
    }
   ],
   "source": [
    "domain_var_input"
   ]
  },
  {
   "cell_type": "code",
   "execution_count": 23,
   "id": "5355f870",
   "metadata": {},
   "outputs": [],
   "source": [
    "pemetaan_grafik_output = []\n",
    "domain_var_output = []\n",
    "def membership_function_output():\n",
    "    print(\"Aplikasi ini hanya memiliki fungsi segitiga dan trapesium\")\n",
    "    for i in range(len(himpunan_var_output)):\n",
    "        tugas = input(f\"Untuk domain variabel {himpunan_var_output[i][0]} {himpunan_var_output[i][1]}\\n\"+\n",
    "        \"Jika anda ingin menggunakan fungsi segitiga ketikkan 1\\n\"+\n",
    "        \"Jika anda ingin menggunakan fungsi trapesium ketikkan 2\\n\"+\n",
    "        \"input(1/2) : \")\n",
    "        if tugas == \"1\":\n",
    "            a = float(input(f\"masukkan nilai a : \"))\n",
    "            b = float(input(f\"masukkan nilai b : \"))\n",
    "            c = float(input(f\"masukkan nilai c : \"))\n",
    "            pemetaan_grafik_output.append([himpunan_var_output[i][0],himpunan_var_output[i][1],\"segitiga\",[[a,b,c],[0,1,0]]])\n",
    "            domain_var_output.insert(i,[himpunan_var_output[i][0],himpunan_var_output[i][1],a,c])\n",
    "        elif tugas == \"2\":\n",
    "            a = float(input(\"masukkan nilai a : \"))\n",
    "            b = float(input(\"masukkan nilai b : \"))\n",
    "            c = float(input(\"masukkan nilai c : \"))\n",
    "            d = float(input(\"masukkan nilai d : \"))\n",
    "            domain_var_output.insert(i,[himpunan_var_output[i][0],himpunan_var_output[i][1],a,d])\n",
    "            if a == b:\n",
    "                pemetaan_grafik_output.append([himpunan_var_output[i][0],himpunan_var_output[i][1],\"trapesium\",[[a,b,c,d],[1,1,1,0]]])\n",
    "            elif d == c:\n",
    "                pemetaan_grafik_output.append([himpunan_var_output[i][0],himpunan_var_output[i][1],\"trapesium\",[[a,b,c,d],[0,1,1,1]]])\n",
    "            else:\n",
    "                pemetaan_grafik_output.append([himpunan_var_output[i][0],himpunan_var_output[i][1],\"trapesium\",[[a,b,c,d],[0,1,1,0]]])"
   ]
  },
  {
   "cell_type": "code",
   "execution_count": 24,
   "id": "aaa1208d",
   "metadata": {},
   "outputs": [
    {
     "name": "stdout",
     "output_type": "stream",
     "text": [
      "Aplikasi ini hanya memiliki fungsi segitiga dan trapesium\n",
      "Untuk domain variabel status_gizi kurang\n",
      "Jika anda ingin menggunakan fungsi segitiga ketikkan 1\n",
      "Jika anda ingin menggunakan fungsi trapesium ketikkan 2\n",
      "input(1/2) : 2\n",
      "masukkan nilai a : 10\n",
      "masukkan nilai b : 10\n",
      "masukkan nilai c : 14\n",
      "masukkan nilai d : 18\n",
      "Untuk domain variabel status_gizi normal\n",
      "Jika anda ingin menggunakan fungsi segitiga ketikkan 1\n",
      "Jika anda ingin menggunakan fungsi trapesium ketikkan 2\n",
      "input(1/2) : 2\n",
      "masukkan nilai a : 18\n",
      "masukkan nilai b : 20\n",
      "masukkan nilai c : 21\n",
      "masukkan nilai d : 24\n",
      "Untuk domain variabel status_gizi berlebihan\n",
      "Jika anda ingin menggunakan fungsi segitiga ketikkan 1\n",
      "Jika anda ingin menggunakan fungsi trapesium ketikkan 2\n",
      "input(1/2) : 2\n",
      "masukkan nilai a : 23\n",
      "masukkan nilai b : 27\n",
      "masukkan nilai c : 40\n",
      "masukkan nilai d : 40\n"
     ]
    }
   ],
   "source": [
    "membership_function_output()"
   ]
  },
  {
   "cell_type": "code",
   "execution_count": 25,
   "id": "f609dd52",
   "metadata": {},
   "outputs": [
    {
     "data": {
      "text/plain": [
       "[['status_gizi',\n",
       "  'kurang',\n",
       "  'trapesium',\n",
       "  [[10.0, 10.0, 14.0, 18.0], [1, 1, 1, 0]]],\n",
       " ['status_gizi',\n",
       "  'normal',\n",
       "  'trapesium',\n",
       "  [[18.0, 20.0, 21.0, 24.0], [0, 1, 1, 0]]],\n",
       " ['status_gizi',\n",
       "  'berlebihan',\n",
       "  'trapesium',\n",
       "  [[23.0, 27.0, 40.0, 40.0], [0, 1, 1, 1]]]]"
      ]
     },
     "execution_count": 25,
     "metadata": {},
     "output_type": "execute_result"
    }
   ],
   "source": [
    "pemetaan_grafik_output"
   ]
  },
  {
   "cell_type": "code",
   "execution_count": 26,
   "id": "ae25887f",
   "metadata": {},
   "outputs": [],
   "source": [
    "import matplotlib.pyplot as plt #Library\n",
    "\n",
    "def gambar_input():\n",
    "    for i in range(len(var_input)):\n",
    "        for j in range(len(pemetaan_grafik_input)):\n",
    "            if pemetaan_grafik_input[j][0] == var_input[i]:\n",
    "                plt.plot(pemetaan_grafik_input[j][3][0],pemetaan_grafik_input[j][3][1],label=pemetaan_grafik_input[j][1])\n",
    "                plt.suptitle(pemetaan_grafik_input[j][0])\n",
    "        plt.ylabel(\"Fire Strength\")\n",
    "        plt.legend(bbox_to_anchor = (1.0, 1), loc = 'upper left')\n",
    "        plt.show()"
   ]
  },
  {
   "cell_type": "code",
   "execution_count": 27,
   "id": "9c383ed1",
   "metadata": {},
   "outputs": [
    {
     "data": {
      "text/plain": [
       "[16.0, 20.0, 24.0, 27.0]"
      ]
     },
     "execution_count": 27,
     "metadata": {},
     "output_type": "execute_result"
    }
   ],
   "source": [
    "pemetaan_grafik_input[1][3][0]"
   ]
  },
  {
   "cell_type": "code",
   "execution_count": 28,
   "id": "061d1d36",
   "metadata": {},
   "outputs": [
    {
     "data": {
      "image/png": "[encoded data removed]",
      "text/plain": [
       "<Figure size 640x480 with 1 Axes>"
      ]
     },
     "metadata": {},
     "output_type": "display_data"
    },
    {
     "data": {
      "image/png": "[encoded data removed]",
      "text/plain": [
       "<Figure size 640x480 with 1 Axes>"
      ]
     },
     "metadata": {},
     "output_type": "display_data"
    },
    {
     "data": {
      "image/png": "[encoded data removed]",
      "text/plain": [
       "<Figure size 640x480 with 1 Axes>"
      ]
     },
     "metadata": {},
     "output_type": "display_data"
    }
   ],
   "source": [
    "gambar_input()"
   ]
  },
  {
   "cell_type": "code",
   "execution_count": 29,
   "id": "d3c0f6a6",
   "metadata": {},
   "outputs": [],
   "source": [
    "def gambar_output():\n",
    "    for i in range(len(var_output)):\n",
    "        for j in range(len(pemetaan_grafik_output)):\n",
    "            if pemetaan_grafik_output[j][0] == var_output[i]:\n",
    "                plt.plot(pemetaan_grafik_output[j][3][0],pemetaan_grafik_output[j][3][1],label=pemetaan_grafik_input[j][1])\n",
    "                plt.suptitle(pemetaan_grafik_output[j][0])\n",
    "        plt.ylabel(\"Fire Strength\")\n",
    "        plt.legend(bbox_to_anchor = (1.0, 1), loc = 'upper left')\n",
    "        plt.show()"
   ]
  },
  {
   "cell_type": "code",
   "execution_count": 30,
   "id": "5845aa57",
   "metadata": {},
   "outputs": [
    {
     "data": {
      "image/png": "[encoded data removed]",
      "text/plain": [
       "<Figure size 640x480 with 1 Axes>"
      ]
     },
     "metadata": {},
     "output_type": "display_data"
    }
   ],
   "source": [
    "gambar_output()"
   ]
  },
  {
   "cell_type": "markdown",
   "id": "c8725c89",
   "metadata": {},
   "source": [
    "### Inisiasi rules "
   ]
  },
  {
   "cell_type": "code",
   "execution_count": 31,
   "id": "37753a47",
   "metadata": {},
   "outputs": [],
   "source": [
    "rule = []\n",
    "def rules():\n",
    "    x = 0\n",
    "    print(\"berikut contoh format penulisan rules : if ipk = buruk AND gaji = kecil THEN nilai_kelayakan = rendah\\n\")\n",
    "    while x == 0:\n",
    "        nilai = input(\"Masukkan rules anda : if \")\n",
    "        rule.append(nilai)\n",
    "        tugas = input(\"Apakah anda ingin memasukkan rules lagi ? \\njika iya ketikkan 1 \\njika tidak inputkan 0 \\ninput(1/0) : \")\n",
    "        if tugas == \"1\":\n",
    "            x = 0\n",
    "        elif tugas == \"0\":\n",
    "            x = 1"
   ]
  },
  {
   "cell_type": "code",
   "execution_count": 32,
   "id": "034f4f25",
   "metadata": {},
   "outputs": [
    {
     "name": "stdout",
     "output_type": "stream",
     "text": [
      "berikut contoh format penulisan rules : if ipk = buruk AND gaji = kecil THEN nilai_kelayakan = rendah\n",
      "\n",
      "Masukkan rules anda : if umur = remaja AND tinggi_badan = pendek AND berat_badan = ringan THEN status_gizi = normal\n",
      "Apakah anda ingin memasukkan rules lagi ? \n",
      "jika iya ketikkan 1 \n",
      "jika tidak inputkan 0 \n",
      "input(1/0) : 1\n",
      "Masukkan rules anda : if umur = remaja AND tinggi_badan = sedang AND berat_badan = ringan THEN status_gizi = kurang\n",
      "Apakah anda ingin memasukkan rules lagi ? \n",
      "jika iya ketikkan 1 \n",
      "jika tidak inputkan 0 \n",
      "input(1/0) : 1\n",
      "Masukkan rules anda : if umur = remaja AND tinggi_badan = tinggi AND berat_badan = ringan THEN status_gizi = kurang\n",
      "Apakah anda ingin memasukkan rules lagi ? \n",
      "jika iya ketikkan 1 \n",
      "jika tidak inputkan 0 \n",
      "input(1/0) : 1\n",
      "Masukkan rules anda : if umur = remaja AND tinggi_badan = pendek AND berat_badan = normal THEN status_gizi = normal\n",
      "Apakah anda ingin memasukkan rules lagi ? \n",
      "jika iya ketikkan 1 \n",
      "jika tidak inputkan 0 \n",
      "input(1/0) : 1\n",
      "Masukkan rules anda : if umur = remaja AND tinggi_badan = sedang AND berat_badan = normal THEN status_gizi = normal\n",
      "Apakah anda ingin memasukkan rules lagi ? \n",
      "jika iya ketikkan 1 \n",
      "jika tidak inputkan 0 \n",
      "input(1/0) : 1\n",
      "Masukkan rules anda : if umur = remaja AND tinggi_badan = tinggi AND berat_badan = normal THEN status_gizi = kurang\n",
      "Apakah anda ingin memasukkan rules lagi ? \n",
      "jika iya ketikkan 1 \n",
      "jika tidak inputkan 0 \n",
      "input(1/0) : 1\n",
      "Masukkan rules anda : if umur = remaja AND tinggi_badan = pendek AND berat_badan = berat THEN status_gizi = berlebihan\n",
      "Apakah anda ingin memasukkan rules lagi ? \n",
      "jika iya ketikkan 1 \n",
      "jika tidak inputkan 0 \n",
      "input(1/0) : 1\n",
      "Masukkan rules anda : if umur = remaja AND tinggi_badan = sedang AND berat_badan = berat THEN status_gizi = berlebihan\n",
      "Apakah anda ingin memasukkan rules lagi ? \n",
      "jika iya ketikkan 1 \n",
      "jika tidak inputkan 0 \n",
      "input(1/0) : 1\n",
      "Masukkan rules anda : if umur = remaja AND tinggi_badan = tinggi AND berat_badan = berat THEN status_gizi = normal\n",
      "Apakah anda ingin memasukkan rules lagi ? \n",
      "jika iya ketikkan 1 \n",
      "jika tidak inputkan 0 \n",
      "input(1/0) : 0\n"
     ]
    }
   ],
   "source": [
    "rules()"
   ]
  },
  {
   "cell_type": "code",
   "execution_count": 33,
   "id": "3d3961ec",
   "metadata": {},
   "outputs": [
    {
     "data": {
      "text/plain": [
       "['umur = remaja AND tinggi_badan = pendek AND berat_badan = ringan THEN status_gizi = normal',\n",
       " 'umur = remaja AND tinggi_badan = sedang AND berat_badan = ringan THEN status_gizi = kurang',\n",
       " 'umur = remaja AND tinggi_badan = tinggi AND berat_badan = ringan THEN status_gizi = kurang',\n",
       " 'umur = remaja AND tinggi_badan = pendek AND berat_badan = normal THEN status_gizi = normal',\n",
       " 'umur = remaja AND tinggi_badan = sedang AND berat_badan = normal THEN status_gizi = normal',\n",
       " 'umur = remaja AND tinggi_badan = tinggi AND berat_badan = normal THEN status_gizi = kurang',\n",
       " 'umur = remaja AND tinggi_badan = pendek AND berat_badan = berat THEN status_gizi = berlebihan',\n",
       " 'umur = remaja AND tinggi_badan = sedang AND berat_badan = berat THEN status_gizi = berlebihan',\n",
       " 'umur = remaja AND tinggi_badan = tinggi AND berat_badan = berat THEN status_gizi = normal']"
      ]
     },
     "execution_count": 33,
     "metadata": {},
     "output_type": "execute_result"
    }
   ],
   "source": [
    "rule"
   ]
  },
  {
   "cell_type": "code",
   "execution_count": 34,
   "id": "4592aaca",
   "metadata": {},
   "outputs": [
    {
     "name": "stdout",
     "output_type": "stream",
     "text": [
      "berikut contoh format penulisan rules : if ipk = buruk AND gaji = kecil THEN nilai_kelayakan = rendah\n",
      "\n",
      "Masukkan rules anda : if umur = dewasa AND tinggi_badan = pendek AND berat_badan = ringan THEN status_gizi = normal\n",
      "Apakah anda ingin memasukkan rules lagi ? \n",
      "jika iya ketikkan 1 \n",
      "jika tidak inputkan 0 \n",
      "input(1/0) : 1\n",
      "Masukkan rules anda : if umur = dewasa AND tinggi_badan = sedang AND berat_badan = ringan THEN status_gizi = kurang\n",
      "Apakah anda ingin memasukkan rules lagi ? \n",
      "jika iya ketikkan 1 \n",
      "jika tidak inputkan 0 \n",
      "input(1/0) : 1\n",
      "Masukkan rules anda : if umur = dewasa AND tinggi_badan = tinggi AND berat_badan = ringan THEN status_gizi = kurang\n",
      "Apakah anda ingin memasukkan rules lagi ? \n",
      "jika iya ketikkan 1 \n",
      "jika tidak inputkan 0 \n",
      "input(1/0) : 1\n",
      "Masukkan rules anda : if umur = dewasa AND tinggi_badan = pendek AND berat_badan = normal THEN status_gizi = normal\n",
      "Apakah anda ingin memasukkan rules lagi ? \n",
      "jika iya ketikkan 1 \n",
      "jika tidak inputkan 0 \n",
      "input(1/0) : 1\n",
      "Masukkan rules anda : if umur = dewasa AND tinggi_badan = sedang AND berat_badan = normal THEN status_gizi = normal\n",
      "Apakah anda ingin memasukkan rules lagi ? \n",
      "jika iya ketikkan 1 \n",
      "jika tidak inputkan 0 \n",
      "input(1/0) : 1\n",
      "Masukkan rules anda : if umur = dewasa AND tinggi_badan = tinggi AND berat_badan = normal THEN status_gizi = normal\n",
      "Apakah anda ingin memasukkan rules lagi ? \n",
      "jika iya ketikkan 1 \n",
      "jika tidak inputkan 0 \n",
      "input(1/0) : 1\n",
      "Masukkan rules anda : if umur = dewasa AND tinggi_badan = pendek AND berat_badan = berat THEN status_gizi = berlebihan\n",
      "Apakah anda ingin memasukkan rules lagi ? \n",
      "jika iya ketikkan 1 \n",
      "jika tidak inputkan 0 \n",
      "input(1/0) : 1\n",
      "Masukkan rules anda : if umur = dewasa AND tinggi_badan = sedang AND berat_badan = berat THEN status_gizi = berlebihan\n",
      "Apakah anda ingin memasukkan rules lagi ? \n",
      "jika iya ketikkan 1 \n",
      "jika tidak inputkan 0 \n",
      "input(1/0) : 1\n",
      "Masukkan rules anda : if umur = dewasa AND tinggi_badan = tinggi AND berat_badan = berat THEN status_gizi = berlebihan\n",
      "Apakah anda ingin memasukkan rules lagi ? \n",
      "jika iya ketikkan 1 \n",
      "jika tidak inputkan 0 \n",
      "input(1/0) : 0\n"
     ]
    }
   ],
   "source": [
    "rules()"
   ]
  },
  {
   "cell_type": "code",
   "execution_count": 35,
   "id": "0cbb5522",
   "metadata": {},
   "outputs": [
    {
     "data": {
      "text/plain": [
       "['umur = remaja AND tinggi_badan = pendek AND berat_badan = ringan THEN status_gizi = normal',\n",
       " 'umur = remaja AND tinggi_badan = sedang AND berat_badan = ringan THEN status_gizi = kurang',\n",
       " 'umur = remaja AND tinggi_badan = tinggi AND berat_badan = ringan THEN status_gizi = kurang',\n",
       " 'umur = remaja AND tinggi_badan = pendek AND berat_badan = normal THEN status_gizi = normal',\n",
       " 'umur = remaja AND tinggi_badan = sedang AND berat_badan = normal THEN status_gizi = normal',\n",
       " 'umur = remaja AND tinggi_badan = tinggi AND berat_badan = normal THEN status_gizi = kurang',\n",
       " 'umur = remaja AND tinggi_badan = pendek AND berat_badan = berat THEN status_gizi = berlebihan',\n",
       " 'umur = remaja AND tinggi_badan = sedang AND berat_badan = berat THEN status_gizi = berlebihan',\n",
       " 'umur = remaja AND tinggi_badan = tinggi AND berat_badan = berat THEN status_gizi = normal',\n",
       " 'umur = dewasa AND tinggi_badan = pendek AND berat_badan = ringan THEN status_gizi = normal',\n",
       " 'umur = dewasa AND tinggi_badan = sedang AND berat_badan = ringan THEN status_gizi = kurang',\n",
       " 'umur = dewasa AND tinggi_badan = tinggi AND berat_badan = ringan THEN status_gizi = kurang',\n",
       " 'umur = dewasa AND tinggi_badan = pendek AND berat_badan = normal THEN status_gizi = normal',\n",
       " 'umur = dewasa AND tinggi_badan = sedang AND berat_badan = normal THEN status_gizi = normal',\n",
       " 'umur = dewasa AND tinggi_badan = tinggi AND berat_badan = normal THEN status_gizi = normal',\n",
       " 'umur = dewasa AND tinggi_badan = pendek AND berat_badan = berat THEN status_gizi = berlebihan',\n",
       " 'umur = dewasa AND tinggi_badan = sedang AND berat_badan = berat THEN status_gizi = berlebihan',\n",
       " 'umur = dewasa AND tinggi_badan = tinggi AND berat_badan = berat THEN status_gizi = berlebihan']"
      ]
     },
     "execution_count": 35,
     "metadata": {},
     "output_type": "execute_result"
    }
   ],
   "source": [
    "rule"
   ]
  },
  {
   "cell_type": "code",
   "execution_count": 36,
   "id": "04170ab9",
   "metadata": {},
   "outputs": [
    {
     "name": "stdout",
     "output_type": "stream",
     "text": [
      "berikut contoh format penulisan rules : if ipk = buruk AND gaji = kecil THEN nilai_kelayakan = rendah\n",
      "\n",
      "Masukkan rules anda : if umur = tua AND tinggi_badan = pendek AND berat_badan = ringan THEN status_gizi = normal\n",
      "Apakah anda ingin memasukkan rules lagi ? \n",
      "jika iya ketikkan 1 \n",
      "jika tidak inputkan 0 \n",
      "input(1/0) : 1\n",
      "Masukkan rules anda : if umur = tua AND tinggi_badan = sedang AND berat_badan = ringan THEN status_gizi = kurang\n",
      "Apakah anda ingin memasukkan rules lagi ? \n",
      "jika iya ketikkan 1 \n",
      "jika tidak inputkan 0 \n",
      "input(1/0) : 1\n",
      "Masukkan rules anda : if umur = tua AND tinggi_badan = tinggi AND berat_badan = ringan THEN status_gizi = kurang\n",
      "Apakah anda ingin memasukkan rules lagi ? \n",
      "jika iya ketikkan 1 \n",
      "jika tidak inputkan 0 \n",
      "input(1/0) : 1\n",
      "Masukkan rules anda : if umur = tua AND tinggi_badan = pendek AND berat_badan = normal THEN status_gizi = normal\n",
      "Apakah anda ingin memasukkan rules lagi ? \n",
      "jika iya ketikkan 1 \n",
      "jika tidak inputkan 0 \n",
      "input(1/0) : 1\n",
      "Masukkan rules anda : if umur = tua AND tinggi_badan = sedang AND berat_badan = normal THEN status_gizi = normal\n",
      "Apakah anda ingin memasukkan rules lagi ? \n",
      "jika iya ketikkan 1 \n",
      "jika tidak inputkan 0 \n",
      "input(1/0) : 1\n",
      "Masukkan rules anda : if umur = tua AND tinggi_badan = tinggi AND berat_badan = normal THEN status_gizi = normal\n",
      "Apakah anda ingin memasukkan rules lagi ? \n",
      "jika iya ketikkan 1 \n",
      "jika tidak inputkan 0 \n",
      "input(1/0) : 1\n",
      "Masukkan rules anda : if umur = tua AND tinggi_badan = pendek AND berat_badan = berat THEN status_gizi = berlebihan\n",
      "Apakah anda ingin memasukkan rules lagi ? \n",
      "jika iya ketikkan 1 \n",
      "jika tidak inputkan 0 \n",
      "input(1/0) : 1\n",
      "Masukkan rules anda : if umur = tua AND tinggi_badan = sedang AND berat_badan = berat THEN status_gizi = berlebihan\n",
      "Apakah anda ingin memasukkan rules lagi ? \n",
      "jika iya ketikkan 1 \n",
      "jika tidak inputkan 0 \n",
      "input(1/0) : 1\n",
      "Masukkan rules anda : if umur = tua AND tinggi_badan = tinggi AND berat_badan = berat THEN status_gizi = berlebihan\n",
      "Apakah anda ingin memasukkan rules lagi ? \n",
      "jika iya ketikkan 1 \n",
      "jika tidak inputkan 0 \n",
      "input(1/0) : 0\n"
     ]
    }
   ],
   "source": [
    "rules()"
   ]
  },
  {
   "cell_type": "code",
   "execution_count": 37,
   "id": "7297d683",
   "metadata": {},
   "outputs": [
    {
     "data": {
      "text/plain": [
       "['umur = remaja AND tinggi_badan = pendek AND berat_badan = ringan THEN status_gizi = normal',\n",
       " 'umur = remaja AND tinggi_badan = sedang AND berat_badan = ringan THEN status_gizi = kurang',\n",
       " 'umur = remaja AND tinggi_badan = tinggi AND berat_badan = ringan THEN status_gizi = kurang',\n",
       " 'umur = remaja AND tinggi_badan = pendek AND berat_badan = normal THEN status_gizi = normal',\n",
       " 'umur = remaja AND tinggi_badan = sedang AND berat_badan = normal THEN status_gizi = normal',\n",
       " 'umur = remaja AND tinggi_badan = tinggi AND berat_badan = normal THEN status_gizi = kurang',\n",
       " 'umur = remaja AND tinggi_badan = pendek AND berat_badan = berat THEN status_gizi = berlebihan',\n",
       " 'umur = remaja AND tinggi_badan = sedang AND berat_badan = berat THEN status_gizi = berlebihan',\n",
       " 'umur = remaja AND tinggi_badan = tinggi AND berat_badan = berat THEN status_gizi = normal',\n",
       " 'umur = dewasa AND tinggi_badan = pendek AND berat_badan = ringan THEN status_gizi = normal',\n",
       " 'umur = dewasa AND tinggi_badan = sedang AND berat_badan = ringan THEN status_gizi = kurang',\n",
       " 'umur = dewasa AND tinggi_badan = tinggi AND berat_badan = ringan THEN status_gizi = kurang',\n",
       " 'umur = dewasa AND tinggi_badan = pendek AND berat_badan = normal THEN status_gizi = normal',\n",
       " 'umur = dewasa AND tinggi_badan = sedang AND berat_badan = normal THEN status_gizi = normal',\n",
       " 'umur = dewasa AND tinggi_badan = tinggi AND berat_badan = normal THEN status_gizi = normal',\n",
       " 'umur = dewasa AND tinggi_badan = pendek AND berat_badan = berat THEN status_gizi = berlebihan',\n",
       " 'umur = dewasa AND tinggi_badan = sedang AND berat_badan = berat THEN status_gizi = berlebihan',\n",
       " 'umur = dewasa AND tinggi_badan = tinggi AND berat_badan = berat THEN status_gizi = berlebihan',\n",
       " 'umur = tua AND tinggi_badan = pendek AND berat_badan = ringan THEN status_gizi = normal',\n",
       " 'umur = tua AND tinggi_badan = sedang AND berat_badan = ringan THEN status_gizi = kurang',\n",
       " 'umur = tua AND tinggi_badan = tinggi AND berat_badan = ringan THEN status_gizi = kurang',\n",
       " 'umur = tua AND tinggi_badan = pendek AND berat_badan = normal THEN status_gizi = normal',\n",
       " 'umur = tua AND tinggi_badan = sedang AND berat_badan = normal THEN status_gizi = normal',\n",
       " 'umur = tua AND tinggi_badan = tinggi AND berat_badan = normal THEN status_gizi = normal',\n",
       " 'umur = tua AND tinggi_badan = pendek AND berat_badan = berat THEN status_gizi = berlebihan',\n",
       " 'umur = tua AND tinggi_badan = sedang AND berat_badan = berat THEN status_gizi = berlebihan',\n",
       " 'umur = tua AND tinggi_badan = tinggi AND berat_badan = berat THEN status_gizi = berlebihan']"
      ]
     },
     "execution_count": 37,
     "metadata": {},
     "output_type": "execute_result"
    }
   ],
   "source": [
    "rule"
   ]
  },
  {
   "cell_type": "code",
   "execution_count": 38,
   "id": "8e046531",
   "metadata": {},
   "outputs": [],
   "source": [
    "peraturan_kiri = []\n",
    "peraturan_kanan = []\n",
    "keseluruhan_peraturan = []\n",
    "peraturan_kanan_berlaku = []\n",
    "peraturan_kiri_berlaku = []\n",
    "\n",
    "for i in rule:\n",
    "    x = i.split(\" THEN \")\n",
    "    peraturan_kiri.append(x[0])\n",
    "    peraturan_kanan.append(x[1])\n",
    "\n",
    "peraturan_kanan2 = []\n",
    "for i in peraturan_kanan:\n",
    "    x = i.split(\" = \")\n",
    "    peraturan_kanan2.append([x[0],x[1]])\n",
    "    if [x[0],x[1]] in peraturan_kanan_berlaku:\n",
    "        continue\n",
    "    else:\n",
    "        peraturan_kanan_berlaku.append([x[0],x[1]])\n",
    "\n",
    "haha = []\n",
    "for i in peraturan_kiri:\n",
    "    x = i.split(\" AND \") \n",
    "    kata = []\n",
    "    for j in x:\n",
    "        kata += [j]\n",
    "    haha.append(kata)\n",
    "\n",
    "peraturan_kiri2 = []\n",
    "\n",
    "for i in range(len(haha)):\n",
    "    nilai = []\n",
    "    for j in range(len(haha[i])):\n",
    "        y = haha[i][j].split(\" = \")\n",
    "        duar = []\n",
    "        for k in y:\n",
    "            duar += [k]\n",
    "        nilai.append(duar)\n",
    "        if duar in peraturan_kiri_berlaku:\n",
    "            continue\n",
    "        else:\n",
    "            peraturan_kiri_berlaku.append(duar)\n",
    "    peraturan_kiri2.append(nilai)\n",
    "    \n",
    "\n",
    "\n",
    "for i in range(len(peraturan_kanan2)):\n",
    "    kata = []\n",
    "    for j in range(len(peraturan_kiri2[i])):\n",
    "        kata += [peraturan_kiri2[i][j]]\n",
    "    kata.append(peraturan_kanan2[i])\n",
    "    keseluruhan_peraturan.append(kata)"
   ]
  },
  {
   "cell_type": "code",
   "execution_count": 39,
   "id": "426d48ce",
   "metadata": {},
   "outputs": [
    {
     "data": {
      "text/plain": [
       "[[['umur', 'remaja'], ['tinggi_badan', 'pendek'], ['berat_badan', 'ringan']],\n",
       " [['umur', 'remaja'], ['tinggi_badan', 'sedang'], ['berat_badan', 'ringan']],\n",
       " [['umur', 'remaja'], ['tinggi_badan', 'tinggi'], ['berat_badan', 'ringan']],\n",
       " [['umur', 'remaja'], ['tinggi_badan', 'pendek'], ['berat_badan', 'normal']],\n",
       " [['umur', 'remaja'], ['tinggi_badan', 'sedang'], ['berat_badan', 'normal']],\n",
       " [['umur', 'remaja'], ['tinggi_badan', 'tinggi'], ['berat_badan', 'normal']],\n",
       " [['umur', 'remaja'], ['tinggi_badan', 'pendek'], ['berat_badan', 'berat']],\n",
       " [['umur', 'remaja'], ['tinggi_badan', 'sedang'], ['berat_badan', 'berat']],\n",
       " [['umur', 'remaja'], ['tinggi_badan', 'tinggi'], ['berat_badan', 'berat']],\n",
       " [['umur', 'dewasa'], ['tinggi_badan', 'pendek'], ['berat_badan', 'ringan']],\n",
       " [['umur', 'dewasa'], ['tinggi_badan', 'sedang'], ['berat_badan', 'ringan']],\n",
       " [['umur', 'dewasa'], ['tinggi_badan', 'tinggi'], ['berat_badan', 'ringan']],\n",
       " [['umur', 'dewasa'], ['tinggi_badan', 'pendek'], ['berat_badan', 'normal']],\n",
       " [['umur', 'dewasa'], ['tinggi_badan', 'sedang'], ['berat_badan', 'normal']],\n",
       " [['umur', 'dewasa'], ['tinggi_badan', 'tinggi'], ['berat_badan', 'normal']],\n",
       " [['umur', 'dewasa'], ['tinggi_badan', 'pendek'], ['berat_badan', 'berat']],\n",
       " [['umur', 'dewasa'], ['tinggi_badan', 'sedang'], ['berat_badan', 'berat']],\n",
       " [['umur', 'dewasa'], ['tinggi_badan', 'tinggi'], ['berat_badan', 'berat']],\n",
       " [['umur', 'tua'], ['tinggi_badan', 'pendek'], ['berat_badan', 'ringan']],\n",
       " [['umur', 'tua'], ['tinggi_badan', 'sedang'], ['berat_badan', 'ringan']],\n",
       " [['umur', 'tua'], ['tinggi_badan', 'tinggi'], ['berat_badan', 'ringan']],\n",
       " [['umur', 'tua'], ['tinggi_badan', 'pendek'], ['berat_badan', 'normal']],\n",
       " [['umur', 'tua'], ['tinggi_badan', 'sedang'], ['berat_badan', 'normal']],\n",
       " [['umur', 'tua'], ['tinggi_badan', 'tinggi'], ['berat_badan', 'normal']],\n",
       " [['umur', 'tua'], ['tinggi_badan', 'pendek'], ['berat_badan', 'berat']],\n",
       " [['umur', 'tua'], ['tinggi_badan', 'sedang'], ['berat_badan', 'berat']],\n",
       " [['umur', 'tua'], ['tinggi_badan', 'tinggi'], ['berat_badan', 'berat']]]"
      ]
     },
     "execution_count": 39,
     "metadata": {},
     "output_type": "execute_result"
    }
   ],
   "source": [
    "peraturan_kiri2"
   ]
  },
  {
   "cell_type": "code",
   "execution_count": 40,
   "id": "41bcc988",
   "metadata": {},
   "outputs": [
    {
     "data": {
      "text/plain": [
       "[['status_gizi', 'normal'],\n",
       " ['status_gizi', 'kurang'],\n",
       " ['status_gizi', 'kurang'],\n",
       " ['status_gizi', 'normal'],\n",
       " ['status_gizi', 'normal'],\n",
       " ['status_gizi', 'kurang'],\n",
       " ['status_gizi', 'berlebihan'],\n",
       " ['status_gizi', 'berlebihan'],\n",
       " ['status_gizi', 'normal'],\n",
       " ['status_gizi', 'normal'],\n",
       " ['status_gizi', 'kurang'],\n",
       " ['status_gizi', 'kurang'],\n",
       " ['status_gizi', 'normal'],\n",
       " ['status_gizi', 'normal'],\n",
       " ['status_gizi', 'normal'],\n",
       " ['status_gizi', 'berlebihan'],\n",
       " ['status_gizi', 'berlebihan'],\n",
       " ['status_gizi', 'berlebihan'],\n",
       " ['status_gizi', 'normal'],\n",
       " ['status_gizi', 'kurang'],\n",
       " ['status_gizi', 'kurang'],\n",
       " ['status_gizi', 'normal'],\n",
       " ['status_gizi', 'normal'],\n",
       " ['status_gizi', 'normal'],\n",
       " ['status_gizi', 'berlebihan'],\n",
       " ['status_gizi', 'berlebihan'],\n",
       " ['status_gizi', 'berlebihan']]"
      ]
     },
     "execution_count": 40,
     "metadata": {},
     "output_type": "execute_result"
    }
   ],
   "source": [
    "peraturan_kanan2"
   ]
  },
  {
   "cell_type": "code",
   "execution_count": 41,
   "id": "44700793",
   "metadata": {},
   "outputs": [
    {
     "data": {
      "text/plain": [
       "[[['umur', 'remaja'],\n",
       "  ['tinggi_badan', 'pendek'],\n",
       "  ['berat_badan', 'ringan'],\n",
       "  ['status_gizi', 'normal']],\n",
       " [['umur', 'remaja'],\n",
       "  ['tinggi_badan', 'sedang'],\n",
       "  ['berat_badan', 'ringan'],\n",
       "  ['status_gizi', 'kurang']],\n",
       " [['umur', 'remaja'],\n",
       "  ['tinggi_badan', 'tinggi'],\n",
       "  ['berat_badan', 'ringan'],\n",
       "  ['status_gizi', 'kurang']],\n",
       " [['umur', 'remaja'],\n",
       "  ['tinggi_badan', 'pendek'],\n",
       "  ['berat_badan', 'normal'],\n",
       "  ['status_gizi', 'normal']],\n",
       " [['umur', 'remaja'],\n",
       "  ['tinggi_badan', 'sedang'],\n",
       "  ['berat_badan', 'normal'],\n",
       "  ['status_gizi', 'normal']],\n",
       " [['umur', 'remaja'],\n",
       "  ['tinggi_badan', 'tinggi'],\n",
       "  ['berat_badan', 'normal'],\n",
       "  ['status_gizi', 'kurang']],\n",
       " [['umur', 'remaja'],\n",
       "  ['tinggi_badan', 'pendek'],\n",
       "  ['berat_badan', 'berat'],\n",
       "  ['status_gizi', 'berlebihan']],\n",
       " [['umur', 'remaja'],\n",
       "  ['tinggi_badan', 'sedang'],\n",
       "  ['berat_badan', 'berat'],\n",
       "  ['status_gizi', 'berlebihan']],\n",
       " [['umur', 'remaja'],\n",
       "  ['tinggi_badan', 'tinggi'],\n",
       "  ['berat_badan', 'berat'],\n",
       "  ['status_gizi', 'normal']],\n",
       " [['umur', 'dewasa'],\n",
       "  ['tinggi_badan', 'pendek'],\n",
       "  ['berat_badan', 'ringan'],\n",
       "  ['status_gizi', 'normal']],\n",
       " [['umur', 'dewasa'],\n",
       "  ['tinggi_badan', 'sedang'],\n",
       "  ['berat_badan', 'ringan'],\n",
       "  ['status_gizi', 'kurang']],\n",
       " [['umur', 'dewasa'],\n",
       "  ['tinggi_badan', 'tinggi'],\n",
       "  ['berat_badan', 'ringan'],\n",
       "  ['status_gizi', 'kurang']],\n",
       " [['umur', 'dewasa'],\n",
       "  ['tinggi_badan', 'pendek'],\n",
       "  ['berat_badan', 'normal'],\n",
       "  ['status_gizi', 'normal']],\n",
       " [['umur', 'dewasa'],\n",
       "  ['tinggi_badan', 'sedang'],\n",
       "  ['berat_badan', 'normal'],\n",
       "  ['status_gizi', 'normal']],\n",
       " [['umur', 'dewasa'],\n",
       "  ['tinggi_badan', 'tinggi'],\n",
       "  ['berat_badan', 'normal'],\n",
       "  ['status_gizi', 'normal']],\n",
       " [['umur', 'dewasa'],\n",
       "  ['tinggi_badan', 'pendek'],\n",
       "  ['berat_badan', 'berat'],\n",
       "  ['status_gizi', 'berlebihan']],\n",
       " [['umur', 'dewasa'],\n",
       "  ['tinggi_badan', 'sedang'],\n",
       "  ['berat_badan', 'berat'],\n",
       "  ['status_gizi', 'berlebihan']],\n",
       " [['umur', 'dewasa'],\n",
       "  ['tinggi_badan', 'tinggi'],\n",
       "  ['berat_badan', 'berat'],\n",
       "  ['status_gizi', 'berlebihan']],\n",
       " [['umur', 'tua'],\n",
       "  ['tinggi_badan', 'pendek'],\n",
       "  ['berat_badan', 'ringan'],\n",
       "  ['status_gizi', 'normal']],\n",
       " [['umur', 'tua'],\n",
       "  ['tinggi_badan', 'sedang'],\n",
       "  ['berat_badan', 'ringan'],\n",
       "  ['status_gizi', 'kurang']],\n",
       " [['umur', 'tua'],\n",
       "  ['tinggi_badan', 'tinggi'],\n",
       "  ['berat_badan', 'ringan'],\n",
       "  ['status_gizi', 'kurang']],\n",
       " [['umur', 'tua'],\n",
       "  ['tinggi_badan', 'pendek'],\n",
       "  ['berat_badan', 'normal'],\n",
       "  ['status_gizi', 'normal']],\n",
       " [['umur', 'tua'],\n",
       "  ['tinggi_badan', 'sedang'],\n",
       "  ['berat_badan', 'normal'],\n",
       "  ['status_gizi', 'normal']],\n",
       " [['umur', 'tua'],\n",
       "  ['tinggi_badan', 'tinggi'],\n",
       "  ['berat_badan', 'normal'],\n",
       "  ['status_gizi', 'normal']],\n",
       " [['umur', 'tua'],\n",
       "  ['tinggi_badan', 'pendek'],\n",
       "  ['berat_badan', 'berat'],\n",
       "  ['status_gizi', 'berlebihan']],\n",
       " [['umur', 'tua'],\n",
       "  ['tinggi_badan', 'sedang'],\n",
       "  ['berat_badan', 'berat'],\n",
       "  ['status_gizi', 'berlebihan']],\n",
       " [['umur', 'tua'],\n",
       "  ['tinggi_badan', 'tinggi'],\n",
       "  ['berat_badan', 'berat'],\n",
       "  ['status_gizi', 'berlebihan']]]"
      ]
     },
     "execution_count": 41,
     "metadata": {},
     "output_type": "execute_result"
    }
   ],
   "source": [
    "keseluruhan_peraturan"
   ]
  },
  {
   "cell_type": "code",
   "execution_count": 42,
   "id": "d3f06224",
   "metadata": {},
   "outputs": [
    {
     "name": "stdout",
     "output_type": "stream",
     "text": [
      "[['status_gizi', 'normal'], ['status_gizi', 'kurang'], ['status_gizi', 'berlebihan']]\n"
     ]
    }
   ],
   "source": [
    "print(peraturan_kanan_berlaku)"
   ]
  },
  {
   "cell_type": "code",
   "execution_count": 43,
   "id": "348e6a7a",
   "metadata": {},
   "outputs": [
    {
     "name": "stdout",
     "output_type": "stream",
     "text": [
      "[['umur', 'remaja'], ['tinggi_badan', 'pendek'], ['berat_badan', 'ringan'], ['tinggi_badan', 'sedang'], ['tinggi_badan', 'tinggi'], ['berat_badan', 'normal'], ['berat_badan', 'berat'], ['umur', 'dewasa'], ['umur', 'tua']]\n"
     ]
    }
   ],
   "source": [
    "print(peraturan_kiri_berlaku)"
   ]
  },
  {
   "cell_type": "markdown",
   "id": "28455d9a",
   "metadata": {},
   "source": [
    "### Melakukan Pencarian Hasil yang di inginkan"
   ]
  },
  {
   "cell_type": "code",
   "execution_count": 44,
   "id": "85ce143a",
   "metadata": {},
   "outputs": [],
   "source": [
    "pemasukan = []\n",
    "def masukkan():\n",
    "    for i in var_input: \n",
    "        nilai = float(input(f\"nilai {i} : \"))\n",
    "        pemasukan.append([i,nilai])"
   ]
  },
  {
   "cell_type": "code",
   "execution_count": 45,
   "id": "e6e2519a",
   "metadata": {},
   "outputs": [
    {
     "name": "stdout",
     "output_type": "stream",
     "text": [
      "nilai umur : 19\n",
      "nilai tinggi_badan : 173\n",
      "nilai berat_badan : 73\n"
     ]
    }
   ],
   "source": [
    "masukkan()"
   ]
  },
  {
   "cell_type": "code",
   "execution_count": 46,
   "id": "723dc678",
   "metadata": {},
   "outputs": [
    {
     "data": {
      "text/plain": [
       "[['umur', 19.0], ['tinggi_badan', 173.0], ['berat_badan', 73.0]]"
      ]
     },
     "execution_count": 46,
     "metadata": {},
     "output_type": "execute_result"
    }
   ],
   "source": [
    "pemasukan"
   ]
  },
  {
   "cell_type": "markdown",
   "id": "b08a1529",
   "metadata": {},
   "source": [
    "### Mencari fire strength atau perhitungan variabel input dengan rules yang ada"
   ]
  },
  {
   "cell_type": "code",
   "execution_count": 47,
   "id": "6f229969",
   "metadata": {},
   "outputs": [],
   "source": [
    "pengecekan = []\n",
    "fire_strength = []\n",
    "def perhitunganaturanfuzzy():\n",
    "    for i in range(len(pemasukan)):\n",
    "        for j in range(len(domain_var_input)):\n",
    "            if pemasukan[i][0] == domain_var_input[j][0] and float(pemasukan[i][1]) >= domain_var_input[j][2] and float(pemasukan[i][1]) <= domain_var_input[j][3]:\n",
    "                if [domain_var_input[j][0],domain_var_input[j][1]] in pengecekan:\n",
    "                    continue\n",
    "                else:\n",
    "                    pengecekan.append([domain_var_input[j][0],domain_var_input[j][1]])\n",
    "    \n",
    "    for i in range(len(pengecekan)):\n",
    "        for j in range(len(peraturan_kiri_berlaku)):\n",
    "            if pengecekan[i] == peraturan_kiri_berlaku[j]:\n",
    "                for l in range(len(pemasukan)):\n",
    "                    for k in range(len(pemetaan_grafik_input)):\n",
    "                        if pengecekan[i] == [pemetaan_grafik_input[k][0],pemetaan_grafik_input[k][1]] and pengecekan[i][0] == pemasukan[l][0]:\n",
    "                            if pemetaan_grafik_input[k][2] == \"trapesium\":\n",
    "                                x = float(pemasukan[l][1])\n",
    "                                a = float(pemetaan_grafik_input[k][3][0][0])\n",
    "                                b = float(pemetaan_grafik_input[k][3][0][1])\n",
    "                                c = float(pemetaan_grafik_input[k][3][0][2])\n",
    "                                d = float(pemetaan_grafik_input[k][3][0][3])\n",
    "                                if a == b and b == x:\n",
    "                                    nilaiderajatkeanggotaan = 1\n",
    "                                elif b <= x <= c:\n",
    "                                    nilaiderajatkeanggotaan = 1\n",
    "                                elif d == c and c == x:\n",
    "                                    nilaiderajatkeanggotaan = 1\n",
    "                                elif a == b and c < x < d:\n",
    "                                    if (d-c) == 0:\n",
    "                                        nilaiderajatkeanggotaan = 0\n",
    "                                    else:\n",
    "                                        nilaiderajatkeanggotaan = (d-x)/(d-c)\n",
    "                                elif c == d and a < x < b :\n",
    "                                    if (b-a) == 0:\n",
    "                                        nilaiderajatkeanggotaan = 0\n",
    "                                    else:\n",
    "                                        nilaiderajatkeanggotaan = (x-a)/(b-a)\n",
    "                                elif a == x:\n",
    "                                    nilaiderajatkeanggotaan = 0\n",
    "                                else:\n",
    "                                    if (b-a) == 0 and (d-c) == 0:\n",
    "                                        angka = 0\n",
    "                                        nilaiderajatkeanggotaan = max(min(min(angka,1),angka),0)\n",
    "                                    elif (b-a) == 0:\n",
    "                                        angka = 0\n",
    "                                        nilaiderajatkeanggotaan = max(min(min(angka,1),(d-x)/(d-c)),0)\n",
    "                                    elif (d-c) == 0:\n",
    "                                        angka = 0\n",
    "                                        nilaiderajatkeanggotaan = max(min(min((x-a)/(b-a),1),angka),0)\n",
    "                                    else:\n",
    "                                        nilaiderajatkeanggotaan = max(min(min((x-a)/(b-a),1),(d-x)/(d-c)),0)\n",
    "                                \n",
    "                                if [[pengecekan[i][0],pengecekan[i][1]],nilaiderajatkeanggotaan] in fire_strength:\n",
    "                                    continue\n",
    "                                else :\n",
    "                                    fire_strength.append([[pengecekan[i][0],pengecekan[i][1]],nilaiderajatkeanggotaan])\n",
    "                            elif pemetaan_grafik_input[k][2] == \"segitiga\":\n",
    "                                x = float(pemasukan[l][1])\n",
    "                                a = float(pemetaan_grafik_input[k][3][0][0])\n",
    "                                b = float(pemetaan_grafik_input[k][3][0][1])\n",
    "                                c = float(pemetaan_grafik_input[k][3][0][2])\n",
    "                                nilaiderajatkeanggotaan = max(min((x-a)/(b-a),(c-x)/(c-b)),0)\n",
    "                                if [[pengecekan[i][0],pengecekan[i][1]],nilaiderajatkeanggotaan] in fire_strength:\n",
    "                                    continue\n",
    "                                else :\n",
    "                                    fire_strength.append([[pengecekan[i][0],pengecekan[i][1]],nilaiderajatkeanggotaan])"
   ]
  },
  {
   "cell_type": "code",
   "execution_count": 48,
   "id": "81e54f68",
   "metadata": {},
   "outputs": [],
   "source": [
    "perhitunganaturanfuzzy()"
   ]
  },
  {
   "cell_type": "code",
   "execution_count": 49,
   "id": "15750b0c",
   "metadata": {},
   "outputs": [
    {
     "data": {
      "text/plain": [
       "[['umur', 'dewasa'], ['tinggi_badan', 'tinggi'], ['berat_badan', 'berat']]"
      ]
     },
     "execution_count": 49,
     "metadata": {},
     "output_type": "execute_result"
    }
   ],
   "source": [
    "pengecekan"
   ]
  },
  {
   "cell_type": "code",
   "execution_count": 50,
   "id": "bddb86d2",
   "metadata": {},
   "outputs": [
    {
     "data": {
      "text/plain": [
       "[[['umur', 'dewasa'], 0.75],\n",
       " [['tinggi_badan', 'tinggi'], 0.5333333333333333],\n",
       " [['berat_badan', 'berat'], 1]]"
      ]
     },
     "execution_count": 50,
     "metadata": {},
     "output_type": "execute_result"
    }
   ],
   "source": [
    "fire_strength"
   ]
  },
  {
   "cell_type": "markdown",
   "id": "9e05cc81",
   "metadata": {},
   "source": [
    "### Melakukan Implication dengan fungsi Min karena Operatornya AND pada RULES nya"
   ]
  },
  {
   "cell_type": "code",
   "execution_count": 51,
   "id": "ac69c9a0",
   "metadata": {},
   "outputs": [],
   "source": [
    "fire_strength_hasil = []\n",
    "def implikasi():\n",
    "    for i in range(len(keseluruhan_peraturan)):\n",
    "        for j in range(len(fire_strength)):\n",
    "            for k in range(len(fire_strength)):\n",
    "                for l in range(len(fire_strength)):\n",
    "                    if [fire_strength[j][0],fire_strength[k][0],fire_strength[l][0]] == [keseluruhan_peraturan[i][0],keseluruhan_peraturan[i][1],keseluruhan_peraturan[i][2]]:\n",
    "                        a = fire_strength[j][1]\n",
    "                        b = fire_strength[k][1]\n",
    "                        c = fire_strength[l][1]\n",
    "                        nilai = min(a,b,c)\n",
    "                        fire_strength_hasil.append([keseluruhan_peraturan[i][len(var_input)],nilai])"
   ]
  },
  {
   "cell_type": "code",
   "execution_count": 52,
   "id": "7b726ff5",
   "metadata": {},
   "outputs": [],
   "source": [
    "implikasi()"
   ]
  },
  {
   "cell_type": "code",
   "execution_count": 53,
   "id": "8f7f3968",
   "metadata": {},
   "outputs": [
    {
     "data": {
      "text/plain": [
       "[[['status_gizi', 'berlebihan'], 0.5333333333333333]]"
      ]
     },
     "execution_count": 53,
     "metadata": {},
     "output_type": "execute_result"
    }
   ],
   "source": [
    "fire_strength_hasil"
   ]
  },
  {
   "cell_type": "markdown",
   "id": "ae395412",
   "metadata": {},
   "source": [
    "### Melakukan Aggregation dengan fungsi MAX"
   ]
  },
  {
   "cell_type": "code",
   "execution_count": 54,
   "id": "1a635daa",
   "metadata": {},
   "outputs": [],
   "source": [
    "fire_strength_hasil_akhir = []\n",
    "hasil_yang_ada = []\n",
    "def aggregation():\n",
    "    for i in range(len(fire_strength_hasil)):\n",
    "        if fire_strength_hasil[i][0] in hasil_yang_ada:\n",
    "            continue\n",
    "        else:\n",
    "            hasil_yang_ada.append(fire_strength_hasil[i][0])\n",
    "    for i in hasil_yang_ada:\n",
    "        nilai = max([el for el in fire_strength_hasil if el[0] == i], key=lambda x: x[1])\n",
    "        fire_strength_hasil_akhir.append(nilai)"
   ]
  },
  {
   "cell_type": "code",
   "execution_count": 55,
   "id": "9939d146",
   "metadata": {},
   "outputs": [],
   "source": [
    "aggregation()"
   ]
  },
  {
   "cell_type": "code",
   "execution_count": 56,
   "id": "2cc9d75e",
   "metadata": {},
   "outputs": [
    {
     "data": {
      "text/plain": [
       "[[['status_gizi', 'berlebihan'], 0.5333333333333333]]"
      ]
     },
     "execution_count": 56,
     "metadata": {},
     "output_type": "execute_result"
    }
   ],
   "source": [
    "fire_strength_hasil_akhir"
   ]
  },
  {
   "cell_type": "markdown",
   "id": "09f65db6",
   "metadata": {},
   "source": [
    "### Melakukan defuzzification menggunakan fungsi MOM (Mean of Maximum)"
   ]
  },
  {
   "cell_type": "code",
   "execution_count": 101,
   "id": "b6270fa3",
   "metadata": {},
   "outputs": [],
   "source": [
    "pemetaan_grafik_hasil_akhir = []\n",
    "kesimpulan = []\n",
    "atas = []\n",
    "bawah = []\n",
    "def defuzzification_mamdani():\n",
    "    print(\"Disini Menggunakan metode MOM (Mean of Maximum)\")\n",
    "    for long in range(len(fire_strength_hasil_akhir)):\n",
    "        for i in range(len(pemetaan_grafik_output)):\n",
    "            if fire_strength_hasil_akhir[long][0][0] and fire_strength_hasil_akhir[long][0][1] in pemetaan_grafik_output[i]:\n",
    "                if 'trapesium' in pemetaan_grafik_output[i]:\n",
    "                    a = pemetaan_grafik_output[i][3][0][0]\n",
    "                    b = pemetaan_grafik_output[i][3][0][1]\n",
    "                    c = pemetaan_grafik_output[i][3][0][2]\n",
    "                    d = pemetaan_grafik_output[i][3][0][3]\n",
    "                    puncak = fire_strength_hasil_akhir[long][1]\n",
    "                    if a == b:\n",
    "                        titik_y_fire_strength = d - (puncak*(d-c)) \n",
    "                        y = (titik_y_fire_strength + a) / 2\n",
    "                        atas.append(y)\n",
    "                        bawah.append(puncak)\n",
    "                        pemetaan_grafik_hasil_akhir.append([fire_strength_hasil_akhir[long][0][0],fire_strength_hasil_akhir[long][0][1],\"trapesium\",[[a,b,titik_y_fire_strength,d],[puncak,puncak,puncak,0]]])\n",
    "                        kesimpulan.append(fire_strength_hasil_akhir[long][0][1])\n",
    "                    elif d == c:\n",
    "                        titik_y_fire_strength = a + (puncak*(b-a)) \n",
    "                        y = (titik_y_fire_strength + d) / 2\n",
    "                        atas.append(y)\n",
    "                        bawah.append(puncak)\n",
    "                        pemetaan_grafik_hasil_akhir.append([fire_strength_hasil_akhir[long][0][0],fire_strength_hasil_akhir[long][0][1],\"trapesium\",[[a,titik_y_fire_strength,c,d],[0,puncak,puncak,puncak]]])\n",
    "                        kesimpulan.append(fire_strength_hasil_akhir[long][0][1])\n",
    "                    else:\n",
    "                        titik_y_fire_strength1 = a + (puncak*(b-a))\n",
    "                        titik_y_fire_strength2 = d - (puncak*(d-c))\n",
    "                        y = (titik_y_fire_strength1 + titik_y_fire_strength2) / 2\n",
    "                        atas.append(y)\n",
    "                        bawah.append(puncak)\n",
    "                        pemetaan_grafik_hasil_akhir.append([fire_strength_hasil_akhir[long][0][0],fire_strength_hasil_akhir[long][0][1],\"trapesium\",[[a,titik_y_fire_strength1,titik_y_fire_strength2,d],[0,puncak,puncak,0]]])\n",
    "                        kesimpulan.append(fire_strength_hasil_akhir[long][0][1])\n",
    "                elif 'segitiga' in pemetaan_grafik_output[i]:\n",
    "                    a = pemetaan_grafik_output[i][3][0][0]\n",
    "                    b = pemetaan_grafik_output[i][3][0][1]\n",
    "                    c = pemetaan_grafik_output[i][3][0][2]\n",
    "                    y = b\n",
    "                    titik_y_fire_strength1 = a + (puncak*(b-a))\n",
    "                    titik_y_fire_strength2 = c - (puncak*(c-b))\n",
    "                    atas.append(y)\n",
    "                    bawah.append(puncak)\n",
    "                    pemetaan_grafik_hasil_akhir.append([fire_strength_hasil_akhir[long][0][0],fire_strength_hasil_akhir[long][0][1],\"trapesium\",[[a,titik_y_fire_strength1,titik_y_fire_strength2,c],[0,puncak,puncak,0]]])\n",
    "                    kesimpulan.append(fire_strength_hasil_akhir[long][0][1])\n",
    "    y = atas[bawah.index(max(bawah))]\n",
    "    \n",
    "    for i in range(len(var_output)):\n",
    "        for j in range(len(pemetaan_grafik_hasil_akhir)):\n",
    "            if pemetaan_grafik_hasil_akhir[j][0] == var_output[i]:\n",
    "                plt.plot(pemetaan_grafik_hasil_akhir[j][3][0],pemetaan_grafik_hasil_akhir[j][3][1],label=pemetaan_grafik_hasil_akhir[j][1])\n",
    "                plt.suptitle(pemetaan_grafik_hasil_akhir[j][0])\n",
    "        plt.plot([y], [max(bawah)], 'ro')\n",
    "        plt.ylabel(\"Fire Strength\")\n",
    "        plt.legend(bbox_to_anchor = (1.0, 1), loc = 'upper left')\n",
    "        plt.show()\n",
    "    \n",
    "    print(\"\\n\")\n",
    "    result = ' '.join(' '.join(map(str, l)) for l in pemasukan)\n",
    "    print(\"Kesimpulannya ialah \",', '.join(var_output),\" dari \",result,\" adalah \",y)\n",
    "    print(\"Teridentifikasi :\",kesimpulan[bawah.index(max(bawah))])"
   ]
  },
  {
   "cell_type": "code",
   "execution_count": 102,
   "id": "d338e7f0",
   "metadata": {},
   "outputs": [
    {
     "name": "stdout",
     "output_type": "stream",
     "text": [
      "Disini Menggunakan metode MOM (Mean of Maximum)\n"
     ]
    },
    {
     "data": {
      "image/png": "[encoded data removed]",
      "text/plain": [
       "<Figure size 640x480 with 1 Axes>"
      ]
     },
     "metadata": {},
     "output_type": "display_data"
    },
    {
     "name": "stdout",
     "output_type": "stream",
     "text": [
      "\n",
      "\n",
      "Kesimpulannya ialah  status_gizi  dari  umur 19.0 tinggi_badan 173.0 berat_badan 73.0  adalah  32.56666666666666\n",
      "Teridentifikasi : berlebihan\n"
     ]
    }
   ],
   "source": [
    "defuzzification_mamdani()"
   ]
  },
  {
   "cell_type": "markdown",
   "id": "bf2a8cfa",
   "metadata": {},
   "source": [
    "## berikut hasil hasil percobaan"
   ]
  },
  {
   "cell_type": "code",
   "execution_count": 106,
   "id": "dd1de506",
   "metadata": {},
   "outputs": [
    {
     "name": "stdout",
     "output_type": "stream",
     "text": [
      "nilai umur : 21\n",
      "nilai tinggi_badan : 181\n",
      "nilai berat_badan : 80\n",
      "Disini Menggunakan metode MOM (Mean of Maximum)\n"
     ]
    },
    {
     "data": {
      "image/png": "[encoded data removed]",
      "text/plain": [
       "<Figure size 640x480 with 1 Axes>"
      ]
     },
     "metadata": {},
     "output_type": "display_data"
    },
    {
     "name": "stdout",
     "output_type": "stream",
     "text": [
      "\n",
      "\n",
      "Kesimpulannya ialah  status_gizi  dari  umur 21.0 tinggi_badan 181.0 berat_badan 80.0  adalah  33.5\n",
      "Teridentifikasi : berlebihan\n"
     ]
    }
   ],
   "source": [
    "pemasukan = []\n",
    "masukkan()\n",
    "pengecekan = []\n",
    "fire_strength = []\n",
    "perhitunganaturanfuzzy()\n",
    "fire_strength_hasil = []\n",
    "implikasi()\n",
    "fire_strength_hasil_akhir = []\n",
    "hasil_yang_ada = []\n",
    "aggregation()\n",
    "pemetaan_grafik_hasil_akhir = []\n",
    "atas = []\n",
    "bawah = []\n",
    "kesimpulan = []\n",
    "defuzzification_mamdani()"
   ]
  },
  {
   "cell_type": "code",
   "execution_count": 107,
   "id": "9cb5a88b",
   "metadata": {},
   "outputs": [
    {
     "name": "stdout",
     "output_type": "stream",
     "text": [
      "nilai umur : 20\n",
      "nilai tinggi_badan : 155\n",
      "nilai berat_badan : 60\n",
      "Disini Menggunakan metode MOM (Mean of Maximum)\n"
     ]
    },
    {
     "data": {
      "image/png": "[encoded data removed]",
      "text/plain": [
       "<Figure size 640x480 with 1 Axes>"
      ]
     },
     "metadata": {},
     "output_type": "display_data"
    },
    {
     "name": "stdout",
     "output_type": "stream",
     "text": [
      "\n",
      "\n",
      "Kesimpulannya ialah  status_gizi  dari  umur 20.0 tinggi_badan 155.0 berat_badan 60.0  adalah  32.388888888888886\n",
      "Teridentifikasi : berlebihan\n"
     ]
    }
   ],
   "source": [
    "pemasukan = []\n",
    "masukkan()\n",
    "pengecekan = []\n",
    "fire_strength = []\n",
    "perhitunganaturanfuzzy()\n",
    "fire_strength_hasil = []\n",
    "implikasi()\n",
    "fire_strength_hasil_akhir = []\n",
    "hasil_yang_ada = []\n",
    "aggregation()\n",
    "pemetaan_grafik_hasil_akhir = []\n",
    "atas = []\n",
    "bawah = []\n",
    "kesimpulan = []\n",
    "defuzzification_mamdani()"
   ]
  },
  {
   "cell_type": "code",
   "execution_count": 108,
   "id": "e0715788",
   "metadata": {},
   "outputs": [
    {
     "name": "stdout",
     "output_type": "stream",
     "text": [
      "nilai umur : 14\n",
      "nilai tinggi_badan : 154\n",
      "nilai berat_badan : 56\n",
      "Disini Menggunakan metode MOM (Mean of Maximum)\n"
     ]
    },
    {
     "data": {
      "image/png": "[encoded data removed]",
      "text/plain": [
       "<Figure size 640x480 with 1 Axes>"
      ]
     },
     "metadata": {},
     "output_type": "display_data"
    },
    {
     "name": "stdout",
     "output_type": "stream",
     "text": [
      "\n",
      "\n",
      "Kesimpulannya ialah  status_gizi  dari  umur 14.0 tinggi_badan 154.0 berat_badan 56.0  adalah  20.6\n",
      "Teridentifikasi : normal\n"
     ]
    }
   ],
   "source": [
    "pemasukan = []\n",
    "masukkan()\n",
    "pengecekan = []\n",
    "fire_strength = []\n",
    "perhitunganaturanfuzzy()\n",
    "fire_strength_hasil = []\n",
    "implikasi()\n",
    "fire_strength_hasil_akhir = []\n",
    "hasil_yang_ada = []\n",
    "aggregation()\n",
    "pemetaan_grafik_hasil_akhir = []\n",
    "atas = []\n",
    "bawah = []\n",
    "kesimpulan = []\n",
    "defuzzification_mamdani()"
   ]
  },
  {
   "cell_type": "code",
   "execution_count": 109,
   "id": "9b836fbc",
   "metadata": {},
   "outputs": [
    {
     "name": "stdout",
     "output_type": "stream",
     "text": [
      "nilai umur : 17\n",
      "nilai tinggi_badan : 154\n",
      "nilai berat_badan : 56\n",
      "Disini Menggunakan metode MOM (Mean of Maximum)\n"
     ]
    },
    {
     "data": {
      "image/png": "[encoded data removed]",
      "text/plain": [
       "<Figure size 640x480 with 1 Axes>"
      ]
     },
     "metadata": {},
     "output_type": "display_data"
    },
    {
     "name": "stdout",
     "output_type": "stream",
     "text": [
      "\n",
      "\n",
      "Kesimpulannya ialah  status_gizi  dari  umur 17.0 tinggi_badan 154.0 berat_badan 56.0  adalah  20.833333333333336\n",
      "Teridentifikasi : normal\n"
     ]
    }
   ],
   "source": [
    "pemasukan = []\n",
    "masukkan()\n",
    "pengecekan = []\n",
    "fire_strength = []\n",
    "perhitunganaturanfuzzy()\n",
    "fire_strength_hasil = []\n",
    "implikasi()\n",
    "fire_strength_hasil_akhir = []\n",
    "hasil_yang_ada = []\n",
    "aggregation()\n",
    "pemetaan_grafik_hasil_akhir = []\n",
    "atas = []\n",
    "bawah = []\n",
    "kesimpulan = []\n",
    "defuzzification_mamdani() "
   ]
  },
  {
   "cell_type": "code",
   "execution_count": 110,
   "id": "7fd25532",
   "metadata": {},
   "outputs": [
    {
     "name": "stdout",
     "output_type": "stream",
     "text": [
      "nilai umur : 30\n",
      "nilai tinggi_badan : 154\n",
      "nilai berat_badan : 66\n",
      "Disini Menggunakan metode MOM (Mean of Maximum)\n"
     ]
    },
    {
     "data": {
      "image/png": "[encoded data removed]",
      "text/plain": [
       "<Figure size 640x480 with 1 Axes>"
      ]
     },
     "metadata": {},
     "output_type": "display_data"
    },
    {
     "name": "stdout",
     "output_type": "stream",
     "text": [
      "\n",
      "\n",
      "Kesimpulannya ialah  status_gizi  dari  umur 30.0 tinggi_badan 154.0 berat_badan 66.0  adalah  32.833333333333336\n",
      "Teridentifikasi : berlebihan\n"
     ]
    }
   ],
   "source": [
    "pemasukan = []\n",
    "masukkan()\n",
    "pengecekan = []\n",
    "fire_strength = []\n",
    "perhitunganaturanfuzzy()\n",
    "fire_strength_hasil = []\n",
    "implikasi()\n",
    "fire_strength_hasil_akhir = []\n",
    "hasil_yang_ada = []\n",
    "aggregation()\n",
    "pemetaan_grafik_hasil_akhir = []\n",
    "atas = []\n",
    "bawah = []\n",
    "kesimpulan = []\n",
    "defuzzification_mamdani() "
   ]
  },
  {
   "cell_type": "code",
   "execution_count": null,
   "id": "a52d35c5",
   "metadata": {},
   "outputs": [],
   "source": []
  }
 ],
 "metadata": {
  "kernelspec": {
   "display_name": "Python 3 (ipykernel)",
   "language": "python",
   "name": "python3"
  },
  "language_info": {
   "codemirror_mode": {
    "name": "ipython",
    "version": 3
   },
   "file_extension": ".py",
   "mimetype": "text/x-python",
   "name": "python",
   "nbconvert_exporter": "python",
   "pygments_lexer": "ipython3",
   "version": "3.9.7"
  }
 },
 "nbformat": 4,
 "nbformat_minor": 5
}
